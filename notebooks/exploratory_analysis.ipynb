{
 "cells": [
  {
   "cell_type": "code",
   "execution_count": null,
   "id": "2318b53f",
   "metadata": {
    "vscode": {
     "languageId": "plaintext"
    }
   },
   "outputs": [],
   "source": [
    "import joblib\n",
    "from sklearn.ensemble import RandomForestClassifier\n",
    "from utils.preprocessing import load_and_split_data\n",
    "from sklearn.metrics import classification_report\n",
    "\n",
    "# Load and split data\n",
    "X_train, X_test, y_train, y_test = load_and_split_data(\"../data/sensor_data.csv\")\n",
    "\n",
    "# Train model\n",
    "clf = RandomForestClassifier(n_estimators=100, random_state=42)\n",
    "clf.fit(X_train, y_train)\n",
    "\n",
    "# Evaluate\n",
    "y_pred = clf.predict(X_test)\n",
    "print(classification_report(y_test, y_pred))\n",
    "\n",
    "# Save model\n",
    "joblib.dump(clf, \"../models/random_forest_model.pkl\")\n"
   ]
  }
 ],
 "metadata": {
  "language_info": {
   "name": "python"
  }
 },
 "nbformat": 4,
 "nbformat_minor": 5
}
